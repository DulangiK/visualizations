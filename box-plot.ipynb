{
 "cells": [
  {
   "cell_type": "code",
   "execution_count": null,
   "metadata": {},
   "outputs": [],
   "source": [
    "import pandas as pd\n",
    "import matplotlib.pyplot as plt"
   ]
  },
  {
   "cell_type": "code",
   "execution_count": null,
   "metadata": {},
   "outputs": [],
   "source": [
    "\n",
    "data=b15_cse[['sm1','sm2','sm3','sm4','sm5','sm6','sm7','sm8']]\n",
    "\n",
    " \n",
    "fig = plt.figure(figsize =(6, 4))\n",
    " \n",
    "# Creating axes instance\n",
    "ax = fig.add_axes([0, 0, 1, 1])\n",
    "\n",
    "\n",
    "#ax.set_title('axes title')\n",
    "ax.set_xlabel('semester',fontsize=15)\n",
    "ax.set_ylabel('semester-wise GPA',fontsize=15)\n",
    "\n",
    "# Creating plot\n",
    "bp = ax.boxplot(data)\n",
    "plt.xticks([1, 2, 3, 4, 5, 6, 7, 8], ['sem 1', 'sem 2', 'sem 3', 'sem 4',  'sem 5', 'sem 6',  'sem 7',  'sem 8'],fontsize=15)\n",
    "plt.yticks(fontsize=15)\n",
    "# show plot\n",
    "plt.savefig('/Documents/box-plot3.jpg',bbox_inches='tight',  dpi=1200)"
   ]
  }
 ],
 "metadata": {
  "kernelspec": {
   "display_name": "Python 3",
   "language": "python",
   "name": "python3"
  },
  "language_info": {
   "codemirror_mode": {
    "name": "ipython",
    "version": 3
   },
   "file_extension": ".py",
   "mimetype": "text/x-python",
   "name": "python",
   "nbconvert_exporter": "python",
   "pygments_lexer": "ipython3",
   "version": "3.8.5"
  }
 },
 "nbformat": 4,
 "nbformat_minor": 4
}
